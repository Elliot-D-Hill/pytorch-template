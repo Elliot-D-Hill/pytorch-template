{
 "cells": [
  {
   "cell_type": "markdown",
   "metadata": {},
   "source": [
    "# The Computational Almanac"
   ]
  },
  {
   "cell_type": "markdown",
   "metadata": {},
   "source": [
    "## Standards and conventions\n",
    "\n",
    "### Why do we use conventions and standards?\n",
    "By establishing or using a common convention that everyone adheres to, you reduce mental\n",
    "overhead and communication errors in your team\n",
    "\n",
    "### When should you use conventions\n",
    "- When a decision is not relevant to your research question\n",
    "- If there is no clear advantage to a decision, default to convention\n",
    "\n",
    "On the flip side, conventions are good candidates for new research"
   ]
  },
  {
   "cell_type": "markdown",
   "metadata": {},
   "source": [
    "### Version control\n",
    "\n",
    "Probably one of the most important skills to learn.\n",
    "\n",
    "Use git; Learn the basics: git add, git commit, git push, git branch, etc. Expand from there as needed. \n",
    "\n",
    "Use a web-based version control tool like GitHub, GitLab, or BitBucket (these all interface with git).\n",
    "\n",
    "#### Benefits\n",
    "- Git is freedom; you don't have to fear breaking your code (or your colleagues' code); You can always revert back to a working version.\n",
    "- You no longer have to write file names like this: final_version36_last_one_i_promise_number2.txt\n",
    "\n",
    "#### Tips\n",
    "- Make changes on a new branch\n",
    "- Make changes in small increments\n",
    "- Commit often. If you make multiple changes and then your code throws an error, it is harder to determine what change caused the bug\n",
    "- Write helpful commit messages; this makes it easier to find where you need to revert to"
   ]
  },
  {
   "cell_type": "markdown",
   "metadata": {},
   "source": [
    "### Automate the boring stuff\n",
    "\n",
    "We want as much of our brain power as possible going towards our research question, so questions like \"should I use tabs or spaces?\", \"How many characters long should my lines be?\" take up a small (but significant) amount of mental time and energy. Luckily, there are tools that automate these menial tasks.\n",
    "\n",
    "- Code formatting: black, autopep8\n",
    "- Linting, type checking: mypy, ruff"
   ]
  },
  {
   "cell_type": "markdown",
   "metadata": {},
   "source": [
    "### Naming\n",
    "\n",
    "Choose a style and stick to it: e.g., snake_case, CamelCase, etc. Different languages will have different standards (Python uses snake_case, Java uses CamelCase).\n",
    "\n",
    "- Variable/class names should describe what they are.\n",
    "- Function/method names should describe what they do."
   ]
  },
  {
   "cell_type": "code",
   "execution_count": null,
   "metadata": {},
   "outputs": [],
   "source": [
    "# Bad\n",
    "def process_data(x, y, z, w):\n",
    "    result = y * (x - z) - w\n",
    "    return result\n",
    "\n",
    "# Good\n",
    "def process_total_payment(base_price, quantity, discount, tax):\n",
    "    total_payment = quantity * (base_price - discount)  - tax\n",
    "    return total_payment"
   ]
  },
  {
   "cell_type": "markdown",
   "metadata": {},
   "source": [
    "### Documentation\n",
    "\n",
    "In academia, often you are the only person (aside from possibly a colleague or\n",
    "two) who is ever going to view your code, so writing clean, documented code\n",
    "is going to primarily benefit you.\n",
    "\n",
    "You are your closest collaborator and past you isn’t going\n",
    "to answer any questions present you has forgotten."
   ]
  },
  {
   "cell_type": "markdown",
   "metadata": {},
   "source": [
    "#### Comments\n",
    "Tip: don't say what the code does; say why the code was written the way it was. \n",
    "\n",
    "If you made a conscious design choice for a particular piece of code that is unintuitive, make sure to document it so that your colleagues (or future you) doesn't come back and try to rewrite it only to encounter the same deadends you have already solved."
   ]
  },
  {
   "cell_type": "code",
   "execution_count": null,
   "metadata": {},
   "outputs": [],
   "source": [
    "# Bad\n",
    "def safe_divide(numerator, denominator):\n",
    "    epsilon = 1e-8\n",
    "    # the numerator is divided by the denominator and a small constant\n",
    "    return numerator / (denominator + epsilon)\n",
    "\n",
    "# Good\n",
    "def safe_divide(numerator, denominator):\n",
    "    epsilon = 1e-8\n",
    "    # epsilon is added to the denominator to avoid division by zero\n",
    "    return numerator / (denominator + epsilon)"
   ]
  },
  {
   "cell_type": "markdown",
   "metadata": {},
   "source": [
    "### Type hints\n",
    "\n",
    "- Helps you reason about your code\n",
    "- Don't have to keep track of object types; less mental overhead; self-documenting\n",
    "- They become much more powerful when combined with a linter that checks them e.g., ruff, mypy (catches bugs before they happen)"
   ]
  },
  {
   "cell_type": "code",
   "execution_count": null,
   "metadata": {},
   "outputs": [
    {
     "data": {
      "text/plain": [
       "2"
      ]
     },
     "execution_count": 3,
     "metadata": {},
     "output_type": "execute_result"
    }
   ],
   "source": [
    "def count_amino_acid(sequence: list[str], amino_acid: str) -> int:\n",
    "    return sum([1 for aa in sequence if aa == amino_acid])\n",
    "\n",
    "count_amino_acid(sequence=[\"C\", \"A\", \"R\", \"V\", \"A\", \"Y\"], amino_acid=\"A\")"
   ]
  },
  {
   "cell_type": "markdown",
   "metadata": {},
   "source": [
    "### Virtual environments\n",
    "\n",
    "Different projects require different (and often conflicting) dependencies. Virtual environments provide isolation that helps prevent potiential conflicts. Helps ensure consistent environments across different machines (somewhat; see Docker containers for a deeper level of isolation).\n",
    "\n",
    "`python3 -m venv .venv`\n",
    "\n",
    "or\n",
    "\n",
    "`conda create --name myenv`"
   ]
  },
  {
   "cell_type": "markdown",
   "metadata": {},
   "source": [
    "### When to use notebooks vs scripts?\n",
    "\n",
    "#### Notebooks\n",
    "\n",
    "Good for: experimenting, visualization, presenting\n",
    "\n",
    "Bad for: complex projects\n",
    "\n",
    "#### Scripts\n",
    "\n",
    "Good for: code that will be reused (hint: most code should be)\n",
    "\n",
    "Bad for: ?\n",
    "\n",
    "Advantages: \n",
    "- Enforces linear execution of code\n",
    "- Easier to manage variable scope"
   ]
  },
  {
   "cell_type": "markdown",
   "metadata": {},
   "source": [
    "### Packaging is easy. No downsides. Only upsides.\n",
    "\n",
    "- Only takes one small file (that you can copy-paste) to setup a package\n",
    "- Simplifies importing your code both within a project and between projects\n",
    "- Makes it easier to share your code with others and yourself\n",
    "\n",
    "For example, you can install this package with\n",
    "\n",
    "```bash\n",
    "pip install https://github.com/Elliot-D-Hill/template.git\n",
    "```\n",
    "\n",
    "You can also install in local development (\"editable\") mode where changes to the codes are automatically reflect in the program's behavior\n",
    "\n",
    "```bash\n",
    "pip install -e .\n",
    "```"
   ]
  },
  {
   "cell_type": "markdown",
   "metadata": {},
   "source": [
    "### Project structure\n",
    "\n",
    "Pick a structure and stick to it. This repository follows a format similar to many other python projects.\n",
    "\n",
    "```bash\n",
    ".\n",
    "├── LICENSE                 # Who can use your project and how.\n",
    "├── README.md               # Help background, setup, and basic usage of your software\n",
    "├── .gitignore              # determines which files will not be tracked by git\n",
    "├── config.toml             # Consolidates important variables into one place\n",
    "├── data                    # Stores data; often has multiple subdirectories\n",
    "├── log.ipynb               # The sandbox\n",
    "├── pyproject.toml          # Used for packaging\n",
    "├── requirements.txt        # Project dependencies are listed here\n",
    "├── src                     # Package source code\n",
    "│   └── example\n",
    "│       ├── __init__.py\n",
    "│       ├── __main__.py\n",
    "│       ├── config.py\n",
    "│       ├── dataset.py\n",
    "│       └── model.py\n",
    "└── tests                   # Unit tests that test the source code\n",
    "    ├── test_dataset.py\n",
    "    └── test_model.py\n",
    "```"
   ]
  },
  {
   "cell_type": "markdown",
   "metadata": {},
   "source": [
    "### When should you write your own code vs import from a package?\n",
    "\n",
    "- If a package has the functionality you need\n",
    "- If the package is trusted (high star count on GitHub is a good indicator)\n",
    "\n",
    "Benefits of using other people's code:\n",
    "- Good packages write tests for their code (you probably don't)\n",
    "- Popular packages are used, tested, and reviewed informally by their users every day (raises our confidence in them)\n",
    "- Adopting other peoples code let's you get to your research problem faster. As a researcher, we often only change one or two aspects of a method/model/algorithm for a given project. That means that we can save a lot of time by importing as many of the parts we are not customizing as possible. \n",
    "\n",
    "Example:\n",
    "\n",
    "Your project is to design a custom loss function. You probably want to avoid also writing your optimizer and model architecture from scratch. You probably want to reuse standard model architectures."
   ]
  },
  {
   "cell_type": "markdown",
   "metadata": {},
   "source": [
    "### When should you optimize your code?\n",
    "\n",
    "- Only when you need to\n",
    "- When it is free/easy to do; doesn't take a lot of time or add a lot of tech dept\n",
    "- If you must optimze your code. Focus on bottlenecks first; find bottlenecks via code profilers e.g., cProfile in Python\n",
    "\n",
    "Performance optimization is typically the last part of your code you want\n",
    "to improve. This is because optimizations are often time consuming to\n",
    "implement and can introduce substantial code complexity"
   ]
  },
  {
   "cell_type": "markdown",
   "metadata": {},
   "source": [
    "### Configuration files\n",
    "\n",
    "Consolidates parameters into fewer places. \n",
    "\n",
    "Avoids having to touch the source code (and possibly introduce new errors) to change program behavior. \n",
    "\n",
    "By having all tunable parameters in one place, it makes it easy to make your methods section of your paper.\n",
    "\n",
    "Avoids \"magic\" variables"
   ]
  },
  {
   "cell_type": "code",
   "execution_count": null,
   "metadata": {},
   "outputs": [],
   "source": [
    "# Bad\n",
    "def calculate_area():\n",
    "    return 3.14159 * 5 * 5\n",
    "\n",
    "# Good\n",
    "PI: float = 3.14159\n",
    "def calculate_area(radius: float | int):\n",
    "    area = PI * radius * radius\n",
    "    return area"
   ]
  },
  {
   "cell_type": "markdown",
   "metadata": {},
   "source": [
    "### Write modular code\n",
    "A good rule of thumb: functions and classes should have roughly one responsibility\n",
    "\n",
    "Modular code is easier to read, reuse, reason through, debug, and write tests."
   ]
  },
  {
   "cell_type": "code",
   "execution_count": null,
   "metadata": {},
   "outputs": [],
   "source": [
    "# Bad\n",
    "def process_data(data):\n",
    "    # Responsibility 1: Calculate average\n",
    "    total = sum(data)\n",
    "    average = total / len(data)\n",
    "    # Responsibility 2: Filter outliers\n",
    "    outliers = [x for x in data if x >= 2 * average]\n",
    "    # Responsibility 3: Generate a report\n",
    "    n = len(data)\n",
    "    report = f\"Average: {average}, Total data points: {n}, Outliers removed: {n - len(outliers)}\"\n",
    "    return outliers, report\n",
    "\n",
    "# Good\n",
    "def calculate_average(data):\n",
    "    total = sum(data)\n",
    "    return total / len(data)\n",
    "\n",
    "def filter_outliers(data, average):\n",
    "    return [x for x in data if x >= 2 * average]\n",
    "\n",
    "def generate_report(data, outliers_removed):\n",
    "    n = len(data)\n",
    "    return f\"Average: {calculate_average(data)}, Total data points: {n}, Outliers removed: {n - len(outliers_removed)}\"\n",
    "\n",
    "def process_data(data):\n",
    "    average = calculate_average(data)\n",
    "    outliers_removed = filter_outliers(data, average)\n",
    "    report = generate_report(data, outliers_removed)\n",
    "    return outliers_removed, report\n"
   ]
  },
  {
   "cell_type": "markdown",
   "metadata": {},
   "source": [
    "### Unit tests\n",
    "\n",
    "Automates manual testing.\n",
    "\n",
    "Allows you to refactor fearlessly.\n",
    "\n",
    "It's likely that you are already unknowingly writing them. "
   ]
  },
  {
   "cell_type": "code",
   "execution_count": null,
   "metadata": {},
   "outputs": [],
   "source": [
    "def test_process_total_payment():\n",
    "    expected = 90\n",
    "    result = process_total_payment(base_price=10, quantity=10, discount=0, tax=10)\n",
    "    assert expected == result\n",
    "\n",
    "test_process_total_payment()"
   ]
  },
  {
   "cell_type": "markdown",
   "metadata": {},
   "source": [
    "# Design patterns (Under construction)"
   ]
  },
  {
   "cell_type": "markdown",
   "metadata": {},
   "source": [
    "### Compose complex objects out of simpler objects\n",
    "\n",
    "3 design patterns that help with this:\n",
    "\n",
    "- Factory method pattern\n",
    "- Strategy pattern\n",
    "- Builder pattern\n",
    "- Composition\n",
    "- Dependency injection"
   ]
  },
  {
   "cell_type": "markdown",
   "metadata": {},
   "source": [
    "Factory methon pattern"
   ]
  },
  {
   "cell_type": "code",
   "execution_count": null,
   "metadata": {},
   "outputs": [],
   "source": [
    "def get_loss_function(loss_fn):\n",
    "    match loss_fn:\n",
    "        case \"MSE\":\n",
    "            return MSE\n",
    "        case \"BCE\":\n",
    "            return BCEWithLogitsLoss\n",
    "        case _:\n",
    "            raise NotImplementedError(f\"Loss function '{loss_fn}' is not implemented.\")\n",
    "\n",
    "def get_pooling_layer(layer: str):\n",
    "    if layer == \"max\":\n",
    "        ...\n",
    "    elif layer == \"mean\":\n",
    "        ...\n",
    "    else:\n",
    "        raise NotImplementedError(f\"Pooling layer '{layer}' is not implemented.\")\n",
    "\n",
    "def get_normalization_layer(layer: str):\n",
    "    layers = {\n",
    "        \"batch\": BatchNorm,\n",
    "        \"layer\": LayerNorm,\n",
    "    }\n",
    "    try:\n",
    "        return layers[layer]\n",
    "    except:\n",
    "        raise NotImplementedError(\"Normalization layer '{layer}' is not implemented.\")"
   ]
  },
  {
   "cell_type": "code",
   "execution_count": null,
   "metadata": {},
   "outputs": [],
   "source": [
    "from torch.nn import Module\n",
    "\n",
    "class Network(Module):\n",
    "    def __init__(self, criterion, pooling_layer, normalization_layer):\n",
    "        self.criterion = criterion\n",
    "        self.pooling_layer = pooling_layer\n",
    "        self.normalization_layer = normalization_layer\n",
    "        self.linear = Linear(in_features=in_features, out_features=out_features)"
   ]
  },
  {
   "cell_type": "code",
   "execution_count": null,
   "metadata": {},
   "outputs": [],
   "source": [
    "def make_network():\n",
    "    loss_function = get_loss_function(loss_fn=loss_fn)\n",
    "    pooling_layer = get_pooling_layer(layer=pool_layer)\n",
    "    normalization_layer = get_normalization_layer(layer=norm_layer)\n",
    "    return Network(\n",
    "        loss_function=loss_function, \n",
    "        pooling_layer=pooling_layer, \n",
    "        normalization_layer=normalization_layer\n",
    "        )"
   ]
  },
  {
   "cell_type": "markdown",
   "metadata": {},
   "source": [
    "# Style (Under construction)"
   ]
  },
  {
   "cell_type": "markdown",
   "metadata": {},
   "source": [
    "### Establishing a baseline\n",
    "Your goal at the start of a project should be establishing a baseline result fast as possible. From there you can optimize as needed."
   ]
  },
  {
   "cell_type": "markdown",
   "metadata": {},
   "source": [
    "### Coding style\n",
    "\n",
    "Prefer simple to clever code."
   ]
  }
 ],
 "metadata": {
  "kernelspec": {
   "display_name": ".venv",
   "language": "python",
   "name": "python3"
  },
  "language_info": {
   "codemirror_mode": {
    "name": "ipython",
    "version": 3
   },
   "file_extension": ".py",
   "mimetype": "text/x-python",
   "name": "python",
   "nbconvert_exporter": "python",
   "pygments_lexer": "ipython3",
   "version": "3.11.3"
  },
  "orig_nbformat": 4
 },
 "nbformat": 4,
 "nbformat_minor": 2
}
